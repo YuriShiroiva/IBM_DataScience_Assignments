{
 "cells": [
  {
   "cell_type": "markdown",
   "metadata": {},
   "source": [
    "# Título do Notebook: Introdução à Ciência de Dados\n"
   ]
  },
  {
   "cell_type": "markdown",
   "metadata": {},
   "source": [
    "## Introdução\n",
    "\n",
    "Este notebook tem como objetivo fornecer uma visão geral sobre a ciência de dados, incluindo linguagens de programação, bibliotecas, ferramentas, e exemplos básicos de operações aritméticas. Ele servirá como uma base para quem está começando na área de ciência de dados.\n"
   ]
  },
  {
   "cell_type": "markdown",
   "metadata": {},
   "source": [
    "## Linguagens de Ciência de Dados\n",
    "\n",
    "1. Python\n",
    "2. R\n",
    "3. Julia\n",
    "4. SQL\n",
    "5. Scala\n"
   ]
  },
  {
   "cell_type": "markdown",
   "metadata": {},
   "source": [
    "## Bibliotecas de Ciência de Dados\n",
    "\n",
    "1. NumPy\n",
    "2. Pandas\n",
    "3. Matplotlib\n",
    "4. Seaborn\n",
    "5. Scikit-learn\n",
    "6. TensorFlow\n",
    "7. Keras\n",
    "8. PyTorch\n"
   ]
  },
  {
   "cell_type": "markdown",
   "metadata": {},
   "source": [
    "## Ferramentas de Ciência de Dados\n",
    "\n",
    "| Ferramenta        | Descrição                                      |\n",
    "|-------------------|------------------------------------------------|\n",
    "| Jupyter Notebook  | Ambiente interativo para desenvolvimento       |\n",
    "| RStudio           | IDE para programação em R                      |\n",
    "| Apache Hadoop     | Framework para processamento de grandes dados  |\n",
    "| Apache Spark      | Motor de processamento de dados em larga escala|\n",
    "| Tableau           | Ferramenta de visualização de dados            |\n",
    "| Power BI          | Ferramenta de business intelligence            |\n"
   ]
  },
  {
   "cell_type": "markdown",
   "metadata": {},
   "source": [
    "## Exemplos de Expressões Aritméticas\n",
    "\n",
    "1. Adição: 3 + 5 = 8\n",
    "2. Subtração: 10 - 2 = 8\n",
    "3. Multiplicação: 4 * 7 = 28\n",
    "4. Divisão: 20 / 4 = 5\n",
    "5. Exponenciação: 2 ** 3 = 8\n",
    "6. Módulo: 10 % 3 = 1\n"
   ]
  },
  {
   "cell_type": "code",
   "execution_count": 2,
   "metadata": {},
   "outputs": [
    {
     "name": "stdout",
     "output_type": "stream",
     "text": [
      "Resultado da multiplicação:  42\n",
      "Resultado da adição:  13\n"
     ]
    }
   ],
   "source": [
    "# Multiplicação\n",
    "resultado_multiplicacao = 6 * 7\n",
    "print(\"Resultado da multiplicação: \", resultado_multiplicacao)\n",
    "\n",
    "# Adição\n",
    "resultado_adicao = 6 + 7\n",
    "print(\"Resultado da adição: \", resultado_adicao)\n"
   ]
  },
  {
   "cell_type": "code",
   "execution_count": 3,
   "metadata": {},
   "outputs": [
    {
     "name": "stdout",
     "output_type": "stream",
     "text": [
      "150 minutos equivalem a 2.5 horas\n"
     ]
    }
   ],
   "source": [
    "# Conversão de minutos para horas\n",
    "minutos = 150\n",
    "horas = minutos / 60\n",
    "print(f\"{minutos} minutos equivalem a {horas} horas\")\n"
   ]
  },
  {
   "cell_type": "markdown",
   "metadata": {},
   "source": [
    "## Objetivos\n",
    "\n",
    "1. Entender as principais linguagens de programação usadas em ciência de dados.\n",
    "2. Conhecer as bibliotecas essenciais para análise e visualização de dados.\n",
    "3. Familiarizar-se com ferramentas populares de ciência de dados.\n",
    "4. Realizar operações aritméticas básicas em Python.\n",
    "5. Converter unidades de tempo de forma programática.\n"
   ]
  },
  {
   "cell_type": "markdown",
   "metadata": {},
   "source": [
    "## Autor\n",
    "\n",
    "Nome: Yuri Shiroiva\n"
   ]
  }
 ],
 "metadata": {
  "kernelspec": {
   "display_name": "Python 3",
   "language": "python",
   "name": "python3"
  },
  "language_info": {
   "codemirror_mode": {
    "name": "ipython",
    "version": 3
   },
   "file_extension": ".py",
   "mimetype": "text/x-python",
   "name": "python",
   "nbconvert_exporter": "python",
   "pygments_lexer": "ipython3",
   "version": "3.11.3"
  }
 },
 "nbformat": 4,
 "nbformat_minor": 2
}
